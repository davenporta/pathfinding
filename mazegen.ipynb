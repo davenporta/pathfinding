{
 "cells": [
  {
   "cell_type": "code",
   "execution_count": 1,
   "metadata": {},
   "outputs": [],
   "source": [
    "from random import choice\n",
    "import numpy as np\n",
    "from matplotlib import pyplot as plt\n",
    "from PIL import Image"
   ]
  },
  {
   "cell_type": "code",
   "execution_count": 3,
   "metadata": {},
   "outputs": [
    {
     "data": {
      "image/png": "[encoded data removed]",
      "text/plain": [
       "<Figure size 432x288 with 1 Axes>"
      ]
     },
     "metadata": {},
     "output_type": "display_data"
    }
   ],
   "source": [
    "def mazegen(height=8, width=8):\n",
    "    dims = (height*2 + 1, width*2 + 1)\n",
    "    maze = np.ones(dims)\n",
    "    cells = np.zeros((height, width))\n",
    "    \n",
    "    stack = []\n",
    "    \n",
    "    maze[(0,1)] = 0\n",
    "    maze[(-1,-2)] = 0\n",
    "    cells[(0,0)] = 1\n",
    "    stack.append((0,0))\n",
    "    \n",
    "    while stack:\n",
    "        x,y = stack.pop()\n",
    "        \n",
    "        neighbours = []\n",
    "        if x>0 and cells[x-1,y] == 0:\n",
    "            neighbours.append((x-1,y))\n",
    "        if x<width-1 and cells[x+1,y] == 0:\n",
    "            neighbours.append((x+1,y))\n",
    "        if y>0 and cells[x,y-1] == 0:\n",
    "            neighbours.append((x,y-1))\n",
    "            neighbours.append((x,y-1))\n",
    "            neighbours.append((x,y-1)) # horizontal bias\n",
    "        if y<height-1 and cells[x,y+1] == 0:\n",
    "            neighbours.append((x,y+1))\n",
    "            neighbours.append((x,y+1))\n",
    "            neighbours.append((x,y+1)) # horizontal bias\n",
    "\n",
    "        if neighbours:\n",
    "            stack.append((x,y))\n",
    "            neighbour = choice(neighbours)\n",
    "            \n",
    "            nimgmap = (neighbour[0]*2+1, neighbour[1]*2+1)\n",
    "            maze[nimgmap] = 0\n",
    "            \n",
    "            current = (x*2+1, y*2+1)\n",
    "            maze[current] = 0\n",
    "            \n",
    "            wall = (neighbour[0]+x+1, neighbour[1]+y+1)\n",
    "            maze[wall] = 0\n",
    "            \n",
    "            cells[neighbour] = 1\n",
    "            stack.append(neighbour)\n",
    "    \n",
    "    return maze\n",
    "\n",
    "m = mazegen(25, 25)\n",
    "#print(m)\n",
    "plt.imshow(m, cmap=plt.cm.binary, interpolation='nearest')\n",
    "plt.xticks([]), plt.yticks([])\n",
    "plt.show()"
   ]
  },
  {
   "cell_type": "code",
   "execution_count": null,
   "metadata": {},
   "outputs": [],
   "source": []
  },
  {
   "cell_type": "code",
   "execution_count": null,
   "metadata": {},
   "outputs": [],
   "source": []
  }
 ],
 "metadata": {
  "kernelspec": {
   "display_name": "Python 3",
   "language": "python",
   "name": "python3"
  },
  "language_info": {
   "codemirror_mode": {
    "name": "ipython",
    "version": 3
   },
   "file_extension": ".py",
   "mimetype": "text/x-python",
   "name": "python",
   "nbconvert_exporter": "python",
   "pygments_lexer": "ipython3",
   "version": "3.7.1"
  }
 },
 "nbformat": 4,
 "nbformat_minor": 2
}
